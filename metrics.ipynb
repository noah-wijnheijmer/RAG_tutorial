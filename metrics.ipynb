{
 "cells": [
  {
   "cell_type": "code",
   "execution_count": 1,
   "metadata": {},
   "outputs": [],
   "source": [
    "import pandas as pd"
   ]
  },
  {
   "cell_type": "code",
   "execution_count": 5,
   "metadata": {},
   "outputs": [
    {
     "data": {
      "text/html": [
       "<div>\n",
       "<style scoped>\n",
       "    .dataframe tbody tr th:only-of-type {\n",
       "        vertical-align: middle;\n",
       "    }\n",
       "\n",
       "    .dataframe tbody tr th {\n",
       "        vertical-align: top;\n",
       "    }\n",
       "\n",
       "    .dataframe thead th {\n",
       "        text-align: right;\n",
       "    }\n",
       "</style>\n",
       "<table border=\"1\" class=\"dataframe\">\n",
       "  <thead>\n",
       "    <tr style=\"text-align: right;\">\n",
       "      <th></th>\n",
       "      <th>Question</th>\n",
       "      <th>RAG answer</th>\n",
       "      <th>Fine-tune answer</th>\n",
       "      <th>Ground-truth</th>\n",
       "    </tr>\n",
       "  </thead>\n",
       "  <tbody>\n",
       "    <tr>\n",
       "      <th>0</th>\n",
       "      <td>Wanneer krijg ik mijn energierekening en hoe ...</td>\n",
       "      <td>De Nederlandse overheid biedt in sommige geval...</td>\n",
       "      <td>De overheid geeft soms subsidie aan bedrijven....</td>\n",
       "      <td>Een bestemmingsplan bepaalt wat er in een geme...</td>\n",
       "    </tr>\n",
       "    <tr>\n",
       "      <th>1</th>\n",
       "      <td>Wie helpt mij als ik een klacht heb over mijn ...</td>\n",
       "      <td>Als u een klacht heeft over uw aankoop, dan ha...</td>\n",
       "      <td>Als u een klacht heeft over een product of die...</td>\n",
       "      <td>Als u een klacht heeft over uw aankoop, dan mo...</td>\n",
       "    </tr>\n",
       "    <tr>\n",
       "      <th>2</th>\n",
       "      <td>Wanneer krijg ik mijn energierekening en hoe i...</td>\n",
       "      <td>De exacte frequentie waarmee u uw energiereken...</td>\n",
       "      <td>Wanneer krijg ik mijn energierekening en hoe i...</td>\n",
       "      <td>1 keer per jaar krijgt u de rekening voor uw e...</td>\n",
       "    </tr>\n",
       "    <tr>\n",
       "      <th>3</th>\n",
       "      <td>Hoe en wanneer kan ik bezwaar maken tegen een ...</td>\n",
       "      <td>Om bezwaar te maken tegen een bestemmingsplan,...</td>\n",
       "      <td>Bij de gemeente waar u woont, kunt u bezwaar m...</td>\n",
       "      <td>Een bestemmingsplan bepaalt wat er in een geme...</td>\n",
       "    </tr>\n",
       "  </tbody>\n",
       "</table>\n",
       "</div>"
      ],
      "text/plain": [
       "                                            Question  \\\n",
       "0   Wanneer krijg ik mijn energierekening en hoe ...   \n",
       "1  Wie helpt mij als ik een klacht heb over mijn ...   \n",
       "2  Wanneer krijg ik mijn energierekening en hoe i...   \n",
       "3  Hoe en wanneer kan ik bezwaar maken tegen een ...   \n",
       "\n",
       "                                          RAG answer  \\\n",
       "0  De Nederlandse overheid biedt in sommige geval...   \n",
       "1  Als u een klacht heeft over uw aankoop, dan ha...   \n",
       "2  De exacte frequentie waarmee u uw energiereken...   \n",
       "3  Om bezwaar te maken tegen een bestemmingsplan,...   \n",
       "\n",
       "                                    Fine-tune answer  \\\n",
       "0  De overheid geeft soms subsidie aan bedrijven....   \n",
       "1  Als u een klacht heeft over een product of die...   \n",
       "2  Wanneer krijg ik mijn energierekening en hoe i...   \n",
       "3  Bij de gemeente waar u woont, kunt u bezwaar m...   \n",
       "\n",
       "                                        Ground-truth  \n",
       "0  Een bestemmingsplan bepaalt wat er in een geme...  \n",
       "1  Als u een klacht heeft over uw aankoop, dan mo...  \n",
       "2  1 keer per jaar krijgt u de rekening voor uw e...  \n",
       "3  Een bestemmingsplan bepaalt wat er in een geme...  "
      ]
     },
     "execution_count": 5,
     "metadata": {},
     "output_type": "execute_result"
    }
   ],
   "source": [
    "pd.read_csv('Comparison_Table.csv')"
   ]
  },
  {
   "cell_type": "code",
   "execution_count": 6,
   "metadata": {},
   "outputs": [
    {
     "name": "stdout",
     "output_type": "stream",
     "text": [
      "Collecting rouge-score\n",
      "  Using cached rouge_score-0.1.2.tar.gz (17 kB)\n",
      "  Preparing metadata (setup.py): started\n",
      "  Preparing metadata (setup.py): finished with status 'done'\n",
      "Collecting absl-py (from rouge-score)\n",
      "  Using cached absl_py-2.1.0-py3-none-any.whl.metadata (2.3 kB)\n",
      "Collecting nltk (from rouge-score)\n",
      "  Using cached nltk-3.9.1-py3-none-any.whl.metadata (2.9 kB)\n",
      "Requirement already satisfied: numpy in c:\\users\\noahw\\miniconda3\\envs\\ind_project\\lib\\site-packages (from rouge-score) (1.24.3)\n",
      "Requirement already satisfied: six>=1.14.0 in c:\\users\\noahw\\miniconda3\\envs\\ind_project\\lib\\site-packages (from rouge-score) (1.16.0)\n",
      "Collecting click (from nltk->rouge-score)\n",
      "  Downloading click-8.1.8-py3-none-any.whl.metadata (2.3 kB)\n",
      "Collecting joblib (from nltk->rouge-score)\n",
      "  Using cached joblib-1.4.2-py3-none-any.whl.metadata (5.4 kB)\n",
      "Requirement already satisfied: regex>=2021.8.3 in c:\\users\\noahw\\miniconda3\\envs\\ind_project\\lib\\site-packages (from nltk->rouge-score) (2024.11.6)\n",
      "Requirement already satisfied: tqdm in c:\\users\\noahw\\miniconda3\\envs\\ind_project\\lib\\site-packages (from nltk->rouge-score) (4.67.1)\n",
      "Requirement already satisfied: colorama in c:\\users\\noahw\\miniconda3\\envs\\ind_project\\lib\\site-packages (from click->nltk->rouge-score) (0.4.6)\n",
      "Using cached absl_py-2.1.0-py3-none-any.whl (133 kB)\n",
      "Using cached nltk-3.9.1-py3-none-any.whl (1.5 MB)\n",
      "Downloading click-8.1.8-py3-none-any.whl (98 kB)\n",
      "Using cached joblib-1.4.2-py3-none-any.whl (301 kB)\n",
      "Building wheels for collected packages: rouge-score\n",
      "  Building wheel for rouge-score (setup.py): started\n",
      "  Building wheel for rouge-score (setup.py): finished with status 'done'\n",
      "  Created wheel for rouge-score: filename=rouge_score-0.1.2-py3-none-any.whl size=24972 sha256=220c3b64ab87cdad2c4cd24f2d8081183757215e8dbab6acaaa95bd343ab8eff\n",
      "  Stored in directory: c:\\users\\noahw\\appdata\\local\\pip\\cache\\wheels\\24\\55\\6f\\ebfc4cb176d1c9665da4e306e1705496206d08215c1acd9dde\n",
      "Successfully built rouge-score\n",
      "Installing collected packages: joblib, click, absl-py, nltk, rouge-score\n",
      "Successfully installed absl-py-2.1.0 click-8.1.8 joblib-1.4.2 nltk-3.9.1 rouge-score-0.1.2\n"
     ]
    }
   ],
   "source": [
    "!pip install rouge-score"
   ]
  },
  {
   "cell_type": "code",
   "execution_count": 10,
   "metadata": {},
   "outputs": [
    {
     "name": "stdout",
     "output_type": "stream",
     "text": [
      "                                            Question  \\\n",
      "0   Wanneer krijg ik mijn energierekening en hoe ...   \n",
      "1  Wie helpt mij als ik een klacht heb over mijn ...   \n",
      "2  Wanneer krijg ik mijn energierekening en hoe i...   \n",
      "3  Hoe en wanneer kan ik bezwaar maken tegen een ...   \n",
      "\n",
      "                                          RAG answer  \\\n",
      "0  De Nederlandse overheid biedt in sommige geval...   \n",
      "1  Als u een klacht heeft over uw aankoop, dan ha...   \n",
      "2  De exacte frequentie waarmee u uw energiereken...   \n",
      "3  Om bezwaar te maken tegen een bestemmingsplan,...   \n",
      "\n",
      "                                    Fine-tune answer  \\\n",
      "0  De overheid geeft soms subsidie aan bedrijven....   \n",
      "1  Als u een klacht heeft over een product of die...   \n",
      "2  Wanneer krijg ik mijn energierekening en hoe i...   \n",
      "3  Bij de gemeente waar u woont, kunt u bezwaar m...   \n",
      "\n",
      "                                        Ground-truth  rouge_Q1_rag  \\\n",
      "0  Een bestemmingsplan bepaalt wat er in een geme...      0.206612   \n",
      "1  Als u een klacht heeft over uw aankoop, dan mo...      0.398990   \n",
      "2  1 keer per jaar krijgt u de rekening voor uw e...      0.398764   \n",
      "3  Een bestemmingsplan bepaalt wat er in een geme...      0.375656   \n",
      "\n",
      "   rouge_Q1_fine-tune  rouge_Q2_rag  rouge_Q2_fine-tune  rouge_Q3_rag  \\\n",
      "0            0.144772      0.206612            0.144772      0.206612   \n",
      "1            0.286837      0.398990            0.286837      0.398990   \n",
      "2            0.384770      0.398764            0.384770      0.398764   \n",
      "3            0.148368      0.375656            0.148368      0.375656   \n",
      "\n",
      "   rouge_Q3_fine-tune  rouge_Q4_rag  rouge_Q4_fine-tune  \n",
      "0            0.144772      0.206612            0.144772  \n",
      "1            0.286837      0.398990            0.286837  \n",
      "2            0.384770      0.398764            0.384770  \n",
      "3            0.148368      0.375656            0.148368  \n"
     ]
    }
   ],
   "source": [
    "# Calculate ROUGE scores for all questions\n",
    "for i in range(1, 5):  # Assuming there are 4 questions\n",
    "    df[f'rouge_Q{i}_rag'] = df.apply(lambda row: scorer.score(row['Ground-truth'], row[f'RAG answer'])['rouge1'].fmeasure, axis=1)\n",
    "    df[f'rouge_Q{i}_fine-tune'] = df.apply(lambda row: scorer.score(row['Ground-truth'], row[f'Fine-tune answer'])['rouge1'].fmeasure, axis=1)\n",
    "\n",
    "print(df)\n"
   ]
  },
  {
   "cell_type": "code",
   "execution_count": 11,
   "metadata": {},
   "outputs": [
    {
     "name": "stdout",
     "output_type": "stream",
     "text": [
      "Average ROUGE score for Fine-tune answers: 0.24118663618246805\n",
      "Average ROUGE score for RAG answers: 0.3450052042272854\n"
     ]
    }
   ],
   "source": [
    "# Calculate the average ROUGE scores\n",
    "average_rouge_fine_tune = df[[f'rouge_Q{i}_fine-tune' for i in range(1, 5)]].mean().mean()\n",
    "average_rouge_rag = df[[f'rouge_Q{i}_rag' for i in range(1, 5)]].mean().mean()\n",
    "\n",
    "print(f'Average ROUGE score for Fine-tune answers: {average_rouge_fine_tune}')\n",
    "print(f'Average ROUGE score for RAG answers: {average_rouge_rag}')"
   ]
  }
 ],
 "metadata": {
  "kernelspec": {
   "display_name": "ind_project",
   "language": "python",
   "name": "python3"
  },
  "language_info": {
   "codemirror_mode": {
    "name": "ipython",
    "version": 3
   },
   "file_extension": ".py",
   "mimetype": "text/x-python",
   "name": "python",
   "nbconvert_exporter": "python",
   "pygments_lexer": "ipython3",
   "version": "3.8.20"
  }
 },
 "nbformat": 4,
 "nbformat_minor": 2
}
